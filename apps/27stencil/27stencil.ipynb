{
 "cells": [
  {
   "cell_type": "code",
   "execution_count": 21,
   "metadata": {},
   "outputs": [
    {
     "data": {
      "text/html": [
       "<div>\n",
       "<style scoped>\n",
       "    .dataframe tbody tr th:only-of-type {\n",
       "        vertical-align: middle;\n",
       "    }\n",
       "\n",
       "    .dataframe tbody tr th {\n",
       "        vertical-align: top;\n",
       "    }\n",
       "\n",
       "    .dataframe thead th {\n",
       "        text-align: right;\n",
       "    }\n",
       "</style>\n",
       "<table border=\"1\" class=\"dataframe\">\n",
       "  <thead>\n",
       "    <tr style=\"text-align: right;\">\n",
       "      <th></th>\n",
       "      <th></th>\n",
       "      <th>executions</th>\n",
       "      <th>execution_time_ms</th>\n",
       "    </tr>\n",
       "    <tr>\n",
       "      <th>platform</th>\n",
       "      <th>version</th>\n",
       "      <th></th>\n",
       "      <th></th>\n",
       "    </tr>\n",
       "  </thead>\n",
       "  <tbody>\n",
       "    <tr>\n",
       "      <th rowspan=\"3\" valign=\"top\">Intel(R) Core(TM) i5-7360U CPU @ 2.30GHz</th>\n",
       "      <th>OpenCL</th>\n",
       "      <td>10</td>\n",
       "      <td>33.5</td>\n",
       "    </tr>\n",
       "    <tr>\n",
       "      <th>OpenMP</th>\n",
       "      <td>10</td>\n",
       "      <td>16.7</td>\n",
       "    </tr>\n",
       "    <tr>\n",
       "      <th>SYCL</th>\n",
       "      <td>10</td>\n",
       "      <td>731.5</td>\n",
       "    </tr>\n",
       "    <tr>\n",
       "      <th rowspan=\"2\" valign=\"top\">Intel(R) Xeon(R) Silver 4208 CPU @ 2.10GHz</th>\n",
       "      <th>OpenCL</th>\n",
       "      <td>10</td>\n",
       "      <td>5.9</td>\n",
       "    </tr>\n",
       "    <tr>\n",
       "      <th>SYCL</th>\n",
       "      <td>10</td>\n",
       "      <td>566.6</td>\n",
       "    </tr>\n",
       "  </tbody>\n",
       "</table>\n",
       "</div>"
      ],
      "text/plain": [
       "                                                    executions  \\\n",
       "platform                                   version               \n",
       "Intel(R) Core(TM) i5-7360U CPU @ 2.30GHz   OpenCL           10   \n",
       "                                           OpenMP           10   \n",
       "                                           SYCL             10   \n",
       "Intel(R) Xeon(R) Silver 4208 CPU @ 2.10GHz OpenCL           10   \n",
       "                                           SYCL             10   \n",
       "\n",
       "                                                    execution_time_ms  \n",
       "platform                                   version                     \n",
       "Intel(R) Core(TM) i5-7360U CPU @ 2.30GHz   OpenCL                33.5  \n",
       "                                           OpenMP                16.7  \n",
       "                                           SYCL                 731.5  \n",
       "Intel(R) Xeon(R) Silver 4208 CPU @ 2.10GHz OpenCL                 5.9  \n",
       "                                           SYCL                 566.6  "
      ]
     },
     "execution_count": 21,
     "metadata": {},
     "output_type": "execute_result"
    }
   ],
   "source": [
    "import os\n",
    "import platform\n",
    "import subprocess\n",
    "import pandas as pd\n",
    "import numpy\n",
    "\n",
    "RUNS = 10\n",
    "\n",
    "FILENAME = '27stencil.csv'\n",
    "\n",
    "def system_info():\n",
    "    print(os.name, platform.system(), platform.release())\n",
    "    print(os.popen(\"clinfo | grep -B 2 -A 4 'Device Vendor ID'\").read())\n",
    "    \n",
    "# Creating Pandas DataFrame \n",
    "if os.path.isfile(FILENAME):\n",
    "    df = pd.read_csv(FILENAME)\n",
    "else:\n",
    "    df = pd.DataFrame({\"version\": [], \"platform\": [], \"execution_time_ms\": []})\n",
    "    \n",
    "# List previous data (average)\n",
    "df.groupby(['platform', 'version']) \\\n",
    "  .agg({'version':'count', 'execution_time_ms':'mean'}) \\\n",
    "  .rename(columns={'version':'count','version':'executions'})"
   ]
  },
  {
   "cell_type": "markdown",
   "metadata": {},
   "source": [
    "# MacBook Pro (13-inch, 2017)"
   ]
  },
  {
   "cell_type": "code",
   "execution_count": 3,
   "metadata": {},
   "outputs": [
    {
     "name": "stdout",
     "output_type": "stream",
     "text": [
      "posix Linux 4.19.76-linuxkit\n",
      "  Device Name                                     Intel(R) FPGA Emulation Device\n",
      "  Device Vendor                                   Intel(R) Corporation\n",
      "  Device Vendor ID                                0x1172\n",
      "  Device Version                                  OpenCL 1.2 \n",
      "  Driver Version                                  2020.9.3.0.08_110447.xmain\n",
      "  Device OpenCL C Version                         OpenCL C 1.2 \n",
      "  Device Type                                     Accelerator\n",
      "--\n",
      "  Device Name                                     Intel(R) Core(TM) i5-7360U CPU @ 2.30GHz\n",
      "  Device Vendor                                   Intel(R) Corporation\n",
      "  Device Vendor ID                                0x8086\n",
      "  Device Version                                  OpenCL 2.1 (Build 0)\n",
      "  Driver Version                                  2020.10.4.0.15\n",
      "  Device OpenCL C Version                         OpenCL C 2.0 \n",
      "  Device Type                                     CPU\n",
      "\n"
     ]
    }
   ],
   "source": [
    "system_info()"
   ]
  },
  {
   "cell_type": "markdown",
   "metadata": {},
   "source": [
    "# GPU-server (Hermes) + Docker (oneAPI)"
   ]
  },
  {
   "cell_type": "code",
   "execution_count": 2,
   "metadata": {},
   "outputs": [
    {
     "name": "stdout",
     "output_type": "stream",
     "text": [
      "posix Linux 4.15.0-65-generic\n",
      "  Device Name                                     Intel(R) FPGA Emulation Device\n",
      "  Device Vendor                                   Intel(R) Corporation\n",
      "  Device Vendor ID                                0x1172\n",
      "  Device Version                                  OpenCL 1.2 \n",
      "  Driver Version                                  2020.9.3.0.08_110447.xmain\n",
      "  Device OpenCL C Version                         OpenCL C 1.2 \n",
      "  Device Type                                     Accelerator\n",
      "--\n",
      "  Device Name                                     Intel(R) Xeon(R) Silver 4208 CPU @ 2.10GHz\n",
      "  Device Vendor                                   Intel(R) Corporation\n",
      "  Device Vendor ID                                0x8086\n",
      "  Device Version                                  OpenCL 2.1 (Build 0)\n",
      "  Driver Version                                  2020.10.4.0.15\n",
      "  Device OpenCL C Version                         OpenCL C 2.0 \n",
      "  Device Type                                     CPU\n",
      "\n"
     ]
    }
   ],
   "source": [
    "system_info()"
   ]
  },
  {
   "cell_type": "markdown",
   "metadata": {},
   "source": [
    "## OpenCL version"
   ]
  },
  {
   "cell_type": "code",
   "execution_count": 8,
   "metadata": {},
   "outputs": [],
   "source": [
    "for i in range(RUNS): \n",
    "    run = subprocess.Popen(\"./27stencil --device 1 --size 64 --iter 10\",\n",
    "                           cwd = \"OpenCL/build/\",\n",
    "                           shell = True,\n",
    "                           stdout = subprocess.PIPE,\n",
    "                           stderr = subprocess.PIPE,\n",
    "                           universal_newlines = True)\n",
    "    result = run.communicate()[0].split(\",\")\n",
    "    df = df.append(pd.DataFrame({\"version\"          : [\"OpenCL\"], \n",
    "                                 \"platform\"         : [result[0]], \n",
    "                                 \"execution_time_ms\": [int(result[1])]}), sort=False)\n",
    "          \n",
    "df.to_csv(FILENAME, index = False, header = True)"
   ]
  },
  {
   "cell_type": "markdown",
   "metadata": {},
   "source": [
    "## OpenMP version"
   ]
  },
  {
   "cell_type": "code",
   "execution_count": 12,
   "metadata": {},
   "outputs": [],
   "source": [
    "for i in range(RUNS): \n",
    "    run = subprocess.Popen(\"./27stencil 64 10\",\n",
    "                           cwd = \"OpenMP/build/\",\n",
    "                           shell = True,\n",
    "                           stdout = subprocess.PIPE,\n",
    "                           stderr = subprocess.PIPE,\n",
    "                           universal_newlines = True)\n",
    "    result = run.communicate()[0].split(\",\")\n",
    "    df = df.append(pd.DataFrame({\"version\"          : [\"OpenMP\"], \n",
    "                                 \"platform\"         : [\"Intel(R) Core(TM) i5-7360U CPU @ 2.30GHz\"], \n",
    "                                 \"execution_time_ms\": [int(result[0])]}))\n",
    "          \n",
    "df.to_csv(FILENAME, index = False, header = True)"
   ]
  },
  {
   "cell_type": "markdown",
   "metadata": {},
   "source": [
    "## SYCL version (using Docker)"
   ]
  },
  {
   "cell_type": "code",
   "execution_count": 4,
   "metadata": {},
   "outputs": [],
   "source": [
    "for i in range(RUNS): \n",
    "    run = subprocess.Popen(\"./27stencil 64 10\",\n",
    "                           cwd = \"SYCL/build/\",\n",
    "                           shell = True,\n",
    "                           stdout = subprocess.PIPE,\n",
    "                           stderr = subprocess.PIPE,\n",
    "                           universal_newlines = True)\n",
    "    result = run.communicate()[0].split(\",\")\n",
    "    df = df.append(pd.DataFrame({\"version\"          : [\"SYCL\"], \n",
    "                                 \"platform\"         : [result[0]], \n",
    "                                 \"execution_time_ms\": [int(result[1])]}), sort=False)\n",
    "          \n",
    "df.to_csv(FILENAME, index = False, header = True)"
   ]
  },
  {
   "cell_type": "code",
   "execution_count": 14,
   "metadata": {},
   "outputs": [
    {
     "data": {
      "text/html": [
       "<div>\n",
       "<style scoped>\n",
       "    .dataframe tbody tr th:only-of-type {\n",
       "        vertical-align: middle;\n",
       "    }\n",
       "\n",
       "    .dataframe tbody tr th {\n",
       "        vertical-align: top;\n",
       "    }\n",
       "\n",
       "    .dataframe thead th {\n",
       "        text-align: right;\n",
       "    }\n",
       "</style>\n",
       "<table border=\"1\" class=\"dataframe\">\n",
       "  <thead>\n",
       "    <tr style=\"text-align: right;\">\n",
       "      <th></th>\n",
       "      <th>execution_time_ms</th>\n",
       "      <th>platform</th>\n",
       "      <th>version</th>\n",
       "    </tr>\n",
       "  </thead>\n",
       "  <tbody>\n",
       "    <tr>\n",
       "      <th>0</th>\n",
       "      <td>30.0</td>\n",
       "      <td>Intel(R) Core(TM) i5-7360U CPU @ 2.30GHz</td>\n",
       "      <td>OpenCL</td>\n",
       "    </tr>\n",
       "    <tr>\n",
       "      <th>1</th>\n",
       "      <td>34.0</td>\n",
       "      <td>Intel(R) Core(TM) i5-7360U CPU @ 2.30GHz</td>\n",
       "      <td>OpenCL</td>\n",
       "    </tr>\n",
       "    <tr>\n",
       "      <th>2</th>\n",
       "      <td>34.0</td>\n",
       "      <td>Intel(R) Core(TM) i5-7360U CPU @ 2.30GHz</td>\n",
       "      <td>OpenCL</td>\n",
       "    </tr>\n",
       "    <tr>\n",
       "      <th>3</th>\n",
       "      <td>30.0</td>\n",
       "      <td>Intel(R) Core(TM) i5-7360U CPU @ 2.30GHz</td>\n",
       "      <td>OpenCL</td>\n",
       "    </tr>\n",
       "    <tr>\n",
       "      <th>4</th>\n",
       "      <td>32.0</td>\n",
       "      <td>Intel(R) Core(TM) i5-7360U CPU @ 2.30GHz</td>\n",
       "      <td>OpenCL</td>\n",
       "    </tr>\n",
       "    <tr>\n",
       "      <th>5</th>\n",
       "      <td>32.0</td>\n",
       "      <td>Intel(R) Core(TM) i5-7360U CPU @ 2.30GHz</td>\n",
       "      <td>OpenCL</td>\n",
       "    </tr>\n",
       "    <tr>\n",
       "      <th>6</th>\n",
       "      <td>36.0</td>\n",
       "      <td>Intel(R) Core(TM) i5-7360U CPU @ 2.30GHz</td>\n",
       "      <td>OpenCL</td>\n",
       "    </tr>\n",
       "    <tr>\n",
       "      <th>7</th>\n",
       "      <td>37.0</td>\n",
       "      <td>Intel(R) Core(TM) i5-7360U CPU @ 2.30GHz</td>\n",
       "      <td>OpenCL</td>\n",
       "    </tr>\n",
       "    <tr>\n",
       "      <th>8</th>\n",
       "      <td>35.0</td>\n",
       "      <td>Intel(R) Core(TM) i5-7360U CPU @ 2.30GHz</td>\n",
       "      <td>OpenCL</td>\n",
       "    </tr>\n",
       "    <tr>\n",
       "      <th>9</th>\n",
       "      <td>35.0</td>\n",
       "      <td>Intel(R) Core(TM) i5-7360U CPU @ 2.30GHz</td>\n",
       "      <td>OpenCL</td>\n",
       "    </tr>\n",
       "    <tr>\n",
       "      <th>10</th>\n",
       "      <td>21.0</td>\n",
       "      <td>Intel(R) Core(TM) i5-7360U CPU @ 2.30GHz</td>\n",
       "      <td>OpenMP</td>\n",
       "    </tr>\n",
       "    <tr>\n",
       "      <th>11</th>\n",
       "      <td>16.0</td>\n",
       "      <td>Intel(R) Core(TM) i5-7360U CPU @ 2.30GHz</td>\n",
       "      <td>OpenMP</td>\n",
       "    </tr>\n",
       "    <tr>\n",
       "      <th>12</th>\n",
       "      <td>15.0</td>\n",
       "      <td>Intel(R) Core(TM) i5-7360U CPU @ 2.30GHz</td>\n",
       "      <td>OpenMP</td>\n",
       "    </tr>\n",
       "    <tr>\n",
       "      <th>13</th>\n",
       "      <td>18.0</td>\n",
       "      <td>Intel(R) Core(TM) i5-7360U CPU @ 2.30GHz</td>\n",
       "      <td>OpenMP</td>\n",
       "    </tr>\n",
       "    <tr>\n",
       "      <th>14</th>\n",
       "      <td>15.0</td>\n",
       "      <td>Intel(R) Core(TM) i5-7360U CPU @ 2.30GHz</td>\n",
       "      <td>OpenMP</td>\n",
       "    </tr>\n",
       "    <tr>\n",
       "      <th>15</th>\n",
       "      <td>15.0</td>\n",
       "      <td>Intel(R) Core(TM) i5-7360U CPU @ 2.30GHz</td>\n",
       "      <td>OpenMP</td>\n",
       "    </tr>\n",
       "    <tr>\n",
       "      <th>16</th>\n",
       "      <td>18.0</td>\n",
       "      <td>Intel(R) Core(TM) i5-7360U CPU @ 2.30GHz</td>\n",
       "      <td>OpenMP</td>\n",
       "    </tr>\n",
       "    <tr>\n",
       "      <th>17</th>\n",
       "      <td>15.0</td>\n",
       "      <td>Intel(R) Core(TM) i5-7360U CPU @ 2.30GHz</td>\n",
       "      <td>OpenMP</td>\n",
       "    </tr>\n",
       "    <tr>\n",
       "      <th>18</th>\n",
       "      <td>19.0</td>\n",
       "      <td>Intel(R) Core(TM) i5-7360U CPU @ 2.30GHz</td>\n",
       "      <td>OpenMP</td>\n",
       "    </tr>\n",
       "    <tr>\n",
       "      <th>19</th>\n",
       "      <td>15.0</td>\n",
       "      <td>Intel(R) Core(TM) i5-7360U CPU @ 2.30GHz</td>\n",
       "      <td>OpenMP</td>\n",
       "    </tr>\n",
       "    <tr>\n",
       "      <th>0</th>\n",
       "      <td>707.0</td>\n",
       "      <td>Intel(R) Core(TM) i5-7360U CPU @ 2.30GHz</td>\n",
       "      <td>SYCL</td>\n",
       "    </tr>\n",
       "    <tr>\n",
       "      <th>0</th>\n",
       "      <td>803.0</td>\n",
       "      <td>Intel(R) Core(TM) i5-7360U CPU @ 2.30GHz</td>\n",
       "      <td>SYCL</td>\n",
       "    </tr>\n",
       "    <tr>\n",
       "      <th>0</th>\n",
       "      <td>832.0</td>\n",
       "      <td>Intel(R) Core(TM) i5-7360U CPU @ 2.30GHz</td>\n",
       "      <td>SYCL</td>\n",
       "    </tr>\n",
       "    <tr>\n",
       "      <th>0</th>\n",
       "      <td>797.0</td>\n",
       "      <td>Intel(R) Core(TM) i5-7360U CPU @ 2.30GHz</td>\n",
       "      <td>SYCL</td>\n",
       "    </tr>\n",
       "    <tr>\n",
       "      <th>0</th>\n",
       "      <td>816.0</td>\n",
       "      <td>Intel(R) Core(TM) i5-7360U CPU @ 2.30GHz</td>\n",
       "      <td>SYCL</td>\n",
       "    </tr>\n",
       "    <tr>\n",
       "      <th>0</th>\n",
       "      <td>725.0</td>\n",
       "      <td>Intel(R) Core(TM) i5-7360U CPU @ 2.30GHz</td>\n",
       "      <td>SYCL</td>\n",
       "    </tr>\n",
       "    <tr>\n",
       "      <th>0</th>\n",
       "      <td>647.0</td>\n",
       "      <td>Intel(R) Core(TM) i5-7360U CPU @ 2.30GHz</td>\n",
       "      <td>SYCL</td>\n",
       "    </tr>\n",
       "    <tr>\n",
       "      <th>0</th>\n",
       "      <td>768.0</td>\n",
       "      <td>Intel(R) Core(TM) i5-7360U CPU @ 2.30GHz</td>\n",
       "      <td>SYCL</td>\n",
       "    </tr>\n",
       "    <tr>\n",
       "      <th>0</th>\n",
       "      <td>624.0</td>\n",
       "      <td>Intel(R) Core(TM) i5-7360U CPU @ 2.30GHz</td>\n",
       "      <td>SYCL</td>\n",
       "    </tr>\n",
       "    <tr>\n",
       "      <th>0</th>\n",
       "      <td>596.0</td>\n",
       "      <td>Intel(R) Core(TM) i5-7360U CPU @ 2.30GHz</td>\n",
       "      <td>SYCL</td>\n",
       "    </tr>\n",
       "  </tbody>\n",
       "</table>\n",
       "</div>"
      ],
      "text/plain": [
       "    execution_time_ms                                  platform version\n",
       "0                30.0  Intel(R) Core(TM) i5-7360U CPU @ 2.30GHz  OpenCL\n",
       "1                34.0  Intel(R) Core(TM) i5-7360U CPU @ 2.30GHz  OpenCL\n",
       "2                34.0  Intel(R) Core(TM) i5-7360U CPU @ 2.30GHz  OpenCL\n",
       "3                30.0  Intel(R) Core(TM) i5-7360U CPU @ 2.30GHz  OpenCL\n",
       "4                32.0  Intel(R) Core(TM) i5-7360U CPU @ 2.30GHz  OpenCL\n",
       "5                32.0  Intel(R) Core(TM) i5-7360U CPU @ 2.30GHz  OpenCL\n",
       "6                36.0  Intel(R) Core(TM) i5-7360U CPU @ 2.30GHz  OpenCL\n",
       "7                37.0  Intel(R) Core(TM) i5-7360U CPU @ 2.30GHz  OpenCL\n",
       "8                35.0  Intel(R) Core(TM) i5-7360U CPU @ 2.30GHz  OpenCL\n",
       "9                35.0  Intel(R) Core(TM) i5-7360U CPU @ 2.30GHz  OpenCL\n",
       "10               21.0  Intel(R) Core(TM) i5-7360U CPU @ 2.30GHz  OpenMP\n",
       "11               16.0  Intel(R) Core(TM) i5-7360U CPU @ 2.30GHz  OpenMP\n",
       "12               15.0  Intel(R) Core(TM) i5-7360U CPU @ 2.30GHz  OpenMP\n",
       "13               18.0  Intel(R) Core(TM) i5-7360U CPU @ 2.30GHz  OpenMP\n",
       "14               15.0  Intel(R) Core(TM) i5-7360U CPU @ 2.30GHz  OpenMP\n",
       "15               15.0  Intel(R) Core(TM) i5-7360U CPU @ 2.30GHz  OpenMP\n",
       "16               18.0  Intel(R) Core(TM) i5-7360U CPU @ 2.30GHz  OpenMP\n",
       "17               15.0  Intel(R) Core(TM) i5-7360U CPU @ 2.30GHz  OpenMP\n",
       "18               19.0  Intel(R) Core(TM) i5-7360U CPU @ 2.30GHz  OpenMP\n",
       "19               15.0  Intel(R) Core(TM) i5-7360U CPU @ 2.30GHz  OpenMP\n",
       "0               707.0  Intel(R) Core(TM) i5-7360U CPU @ 2.30GHz    SYCL\n",
       "0               803.0  Intel(R) Core(TM) i5-7360U CPU @ 2.30GHz    SYCL\n",
       "0               832.0  Intel(R) Core(TM) i5-7360U CPU @ 2.30GHz    SYCL\n",
       "0               797.0  Intel(R) Core(TM) i5-7360U CPU @ 2.30GHz    SYCL\n",
       "0               816.0  Intel(R) Core(TM) i5-7360U CPU @ 2.30GHz    SYCL\n",
       "0               725.0  Intel(R) Core(TM) i5-7360U CPU @ 2.30GHz    SYCL\n",
       "0               647.0  Intel(R) Core(TM) i5-7360U CPU @ 2.30GHz    SYCL\n",
       "0               768.0  Intel(R) Core(TM) i5-7360U CPU @ 2.30GHz    SYCL\n",
       "0               624.0  Intel(R) Core(TM) i5-7360U CPU @ 2.30GHz    SYCL\n",
       "0               596.0  Intel(R) Core(TM) i5-7360U CPU @ 2.30GHz    SYCL"
      ]
     },
     "execution_count": 14,
     "metadata": {},
     "output_type": "execute_result"
    }
   ],
   "source": [
    "df"
   ]
  },
  {
   "cell_type": "code",
   "execution_count": 6,
   "metadata": {},
   "outputs": [
    {
     "data": {
      "text/plain": [
       "Text(0, 0.5, 'Execution time (ms)')"
      ]
     },
     "execution_count": 6,
     "metadata": {},
     "output_type": "execute_result"
    },
    {
     "data": {
      "image/png": "[encoded data removed]",
      "text/plain": [
       "<Figure size 432x288 with 1 Axes>"
      ]
     },
     "metadata": {
      "needs_background": "light"
     },
     "output_type": "display_data"
    }
   ],
   "source": [
    "# Plot results\n",
    "df = pd.read_csv(FILENAME)\n",
    "by_version = df[df.version == 'SYCL'].groupby(by=\"platform\", sort=False)\n",
    "avg_time = by_version.mean()\n",
    "std = by_version.std()\n",
    "plt = avg_time.plot(legend=False, kind=\"bar\", yerr=std)\n",
    "plt.set_title(\"Average execution time (SYCL)\")\n",
    "plt.set_ylabel(\"Execution time (ms)\")\n"
   ]
  },
  {
   "cell_type": "code",
   "execution_count": 9,
   "metadata": {},
   "outputs": [
    {
     "data": {
      "text/plain": [
       "Text(0, 0.5, 'Execution time (ms)')"
      ]
     },
     "execution_count": 9,
     "metadata": {},
     "output_type": "execute_result"
    },
    {
     "data": {
      "image/png": "[encoded data removed]",
      "text/plain": [
       "<Figure size 432x288 with 1 Axes>"
      ]
     },
     "metadata": {
      "needs_background": "light"
     },
     "output_type": "display_data"
    }
   ],
   "source": [
    "# Plot results\n",
    "df = pd.read_csv(FILENAME)\n",
    "by_version = df[df.version == 'OpenCL'].groupby(by=\"platform\", sort=False)\n",
    "avg_time = by_version.mean()\n",
    "std = by_version.std()\n",
    "plt = avg_time.plot(legend=False, kind=\"bar\", yerr=std)\n",
    "plt.set_title(\"Average execution time (OpenCL)\")\n",
    "plt.set_ylabel(\"Execution time (ms)\")"
   ]
  },
  {
   "cell_type": "code",
   "execution_count": null,
   "metadata": {},
   "outputs": [],
   "source": []
  }
 ],
 "metadata": {
  "kernelspec": {
   "display_name": "Python 3.7 (Intel® oneAPI)",
   "language": "python",
   "name": "c009-intel_distribution_of_python_3_oneapi-beta05-python"
  },
  "language_info": {
   "codemirror_mode": {
    "name": "ipython",
    "version": 3
   },
   "file_extension": ".py",
   "mimetype": "text/x-python",
   "name": "python",
   "nbconvert_exporter": "python",
   "pygments_lexer": "ipython3",
   "version": "3.7.7"
  }
 },
 "nbformat": 4,
 "nbformat_minor": 4
}

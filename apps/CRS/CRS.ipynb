{
 "cells": [
  {
   "cell_type": "code",
   "execution_count": 6,
   "metadata": {},
   "outputs": [
    {
     "data": {
      "text/html": [
       "<div>\n",
       "<style scoped>\n",
       "    .dataframe tbody tr th:only-of-type {\n",
       "        vertical-align: middle;\n",
       "    }\n",
       "\n",
       "    .dataframe tbody tr th {\n",
       "        vertical-align: top;\n",
       "    }\n",
       "\n",
       "    .dataframe thead th {\n",
       "        text-align: right;\n",
       "    }\n",
       "</style>\n",
       "<table border=\"1\" class=\"dataframe\">\n",
       "  <thead>\n",
       "    <tr style=\"text-align: right;\">\n",
       "      <th></th>\n",
       "      <th>version</th>\n",
       "      <th>platform</th>\n",
       "      <th>execution_time_ms</th>\n",
       "    </tr>\n",
       "  </thead>\n",
       "  <tbody>\n",
       "    <tr>\n",
       "      <th>0</th>\n",
       "      <td>SYCL</td>\n",
       "      <td>Intel(R) Core(TM) i5-7360U CPU @ 2.30GHz</td>\n",
       "      <td>58600.0</td>\n",
       "    </tr>\n",
       "    <tr>\n",
       "      <th>1</th>\n",
       "      <td>SYCL</td>\n",
       "      <td>Intel(R) Core(TM) i5-7360U CPU @ 2.30GHz</td>\n",
       "      <td>58609.0</td>\n",
       "    </tr>\n",
       "    <tr>\n",
       "      <th>2</th>\n",
       "      <td>SYCL</td>\n",
       "      <td>Intel(R) Core(TM) i5-7360U CPU @ 2.30GHz</td>\n",
       "      <td>59390.0</td>\n",
       "    </tr>\n",
       "    <tr>\n",
       "      <th>3</th>\n",
       "      <td>SYCL</td>\n",
       "      <td>Intel(R) Core(TM) i5-7360U CPU @ 2.30GHz</td>\n",
       "      <td>62158.0</td>\n",
       "    </tr>\n",
       "    <tr>\n",
       "      <th>4</th>\n",
       "      <td>SYCL</td>\n",
       "      <td>Intel(R) Core(TM) i5-7360U CPU @ 2.30GHz</td>\n",
       "      <td>58818.0</td>\n",
       "    </tr>\n",
       "  </tbody>\n",
       "</table>\n",
       "</div>"
      ],
      "text/plain": [
       "  version                                  platform  execution_time_ms\n",
       "0    SYCL  Intel(R) Core(TM) i5-7360U CPU @ 2.30GHz            58600.0\n",
       "1    SYCL  Intel(R) Core(TM) i5-7360U CPU @ 2.30GHz            58609.0\n",
       "2    SYCL  Intel(R) Core(TM) i5-7360U CPU @ 2.30GHz            59390.0\n",
       "3    SYCL  Intel(R) Core(TM) i5-7360U CPU @ 2.30GHz            62158.0\n",
       "4    SYCL  Intel(R) Core(TM) i5-7360U CPU @ 2.30GHz            58818.0"
      ]
     },
     "execution_count": 6,
     "metadata": {},
     "output_type": "execute_result"
    }
   ],
   "source": [
    "import os\n",
    "import platform\n",
    "import subprocess\n",
    "import pandas as pd\n",
    "import numpy\n",
    "\n",
    "RUNS = 5\n",
    "\n",
    "FILENAME = 'CRS.csv'\n",
    "\n",
    "def system_info():\n",
    "    print(os.name, platform.system(), platform.release())\n",
    "    print(os.popen(\"clinfo | grep -B 2 -A 4 'Device Vendor ID'\").read())\n",
    "    \n",
    "# Creating Pandas DataFrame \n",
    "if os.path.isfile(FILENAME):\n",
    "    df = pd.read_csv(FILENAME)\n",
    "else:\n",
    "    df = pd.DataFrame({\"version\": [], \"platform\": [], \"execution_time_ms\": []})\n",
    "    \n",
    "# List previous data\n",
    "df"
   ]
  },
  {
   "cell_type": "markdown",
   "metadata": {},
   "source": [
    "# MacBook Pro (13-inch, 2017)"
   ]
  },
  {
   "cell_type": "code",
   "execution_count": 2,
   "metadata": {},
   "outputs": [
    {
     "name": "stdout",
     "output_type": "stream",
     "text": [
      "('posix', 'Darwin', '19.4.0')\n",
      "  Device Name                                     Intel(R) Core(TM) i5-7360U CPU @ 2.30GHz\n",
      "  Device Vendor                                   Intel\n",
      "  Device Vendor ID                                0xffffffff\n",
      "  Device Version                                  OpenCL 1.2 \n",
      "  Driver Version                                  1.1\n",
      "  Device OpenCL C Version                         OpenCL C 1.2 \n",
      "  Device Type                                     CPU\n",
      "--\n",
      "--\n",
      "  Device Name                                     Intel(R) Iris(TM) Plus Graphics 640\n",
      "  Device Vendor                                   Intel Inc.\n",
      "  Device Vendor ID                                0x1024500\n",
      "  Device Version                                  OpenCL 1.2 \n",
      "  Driver Version                                  1.2(Mar 15 2020 21:29:48)\n",
      "  Device OpenCL C Version                         OpenCL C 1.2 \n",
      "  Device Type                                     GPU\n",
      "\n"
     ]
    }
   ],
   "source": [
    "system_info()"
   ]
  },
  {
   "cell_type": "markdown",
   "metadata": {},
   "source": [
    "# MacBook Pro (13-inch, 2017) + Docker"
   ]
  },
  {
   "cell_type": "code",
   "execution_count": 11,
   "metadata": {},
   "outputs": [
    {
     "name": "stdout",
     "output_type": "stream",
     "text": [
      "posix Linux 4.19.76-linuxkit\n",
      "  Device Name                                     Intel(R) FPGA Emulation Device\n",
      "  Device Vendor                                   Intel(R) Corporation\n",
      "  Device Vendor ID                                0x1172\n",
      "  Device Version                                  OpenCL 1.2 \n",
      "  Driver Version                                  2020.9.3.0.08_110447.xmain\n",
      "  Device OpenCL C Version                         OpenCL C 1.2 \n",
      "  Device Type                                     Accelerator\n",
      "--\n",
      "  Device Name                                     Intel(R) Core(TM) i5-7360U CPU @ 2.30GHz\n",
      "  Device Vendor                                   Intel(R) Corporation\n",
      "  Device Vendor ID                                0x8086\n",
      "  Device Version                                  OpenCL 2.1 (Build 0)\n",
      "  Driver Version                                  2020.10.4.0.15\n",
      "  Device OpenCL C Version                         OpenCL C 2.0 \n",
      "  Device Type                                     CPU\n",
      "\n"
     ]
    }
   ],
   "source": [
    "system_info()"
   ]
  },
  {
   "cell_type": "markdown",
   "metadata": {},
   "source": [
    "## OpenCL version"
   ]
  },
  {
   "cell_type": "code",
   "execution_count": 10,
   "metadata": {},
   "outputs": [],
   "source": [
    "for i in range(RUNS): \n",
    "    run = subprocess.Popen(\"./cmp-ocl2 -aph 600 -c0 1.98e-7 -c1 1.77e-6 -d 2 -i ../../../../datasets/simple-synthetic.su -nc 5 -tau 0.002 -v 0\",\n",
    "                           cwd = \"OpenCl/build/\",\n",
    "                           shell = True,\n",
    "                           stdout = subprocess.PIPE,\n",
    "                           stderr = subprocess.PIPE,\n",
    "                           universal_newlines = True)\n",
    "    result = run.communicate()[0].split(\",\")\n",
    "    df = df.append(pd.DataFrame({\"version\"          : [\"OpenCL\"], \n",
    "                                 \"platform\"         : [result[0]], \n",
    "                                 \"execution_time_ms\": [int(result[1])]}))\n",
    "          \n",
    "df.to_csv(FILENAME, index = False, header = True)"
   ]
  },
  {
   "cell_type": "markdown",
   "metadata": {},
   "source": [
    "## OpenMP version"
   ]
  },
  {
   "cell_type": "code",
   "execution_count": null,
   "metadata": {},
   "outputs": [],
   "source": [
    "for i in range(RUNS): \n",
    "    run = subprocess.Popen(\"./crs-omp2 -aph 600 -apm 50 -a0 -0.7e-3 -a1 0.7e-3 -b0 -1e-7 -b1 1e-7 -c0 1.98e-7 -c1 1.77e-6 -na 5 -nb 5 -nc 5 -tau 0.002 -i ../../../../datasets/simple-synthetic.su -v 0\",\n",
    "                           cwd = \"OpenMP/build/\",\n",
    "                           shell = True,\n",
    "                           stdout = subprocess.PIPE,\n",
    "                           stderr = subprocess.PIPE,\n",
    "                           universal_newlines = True)\n",
    "    result = run.communicate()[0].split(\",\")\n",
    "    df = df.append(pd.DataFrame({\"version\"          : [\"OpenMP\"], \n",
    "                                 \"platform\"         : [\"Intel(R) Core(TM) i5-7360U CPU @ 2.30GHz\"], \n",
    "                                 \"execution_time_ms\": [int(result[0])]}))\n",
    "          \n",
    "df.to_csv(FILENAME, index = False, header = True)"
   ]
  },
  {
   "cell_type": "markdown",
   "metadata": {},
   "source": [
    "## SYCL version (using Docker)"
   ]
  },
  {
   "cell_type": "code",
   "execution_count": 2,
   "metadata": {},
   "outputs": [],
   "source": [
    "for i in range(RUNS): \n",
    "    run = subprocess.Popen(\"./crs-sycl2 -aph 600 -apm 50 -a0 -0.7e-3 -a1 0.7e-3 -b0 -1e-7 -b1 1e-7 -c0 1.98e-7 -c1 1.77e-6 -na 5 -nb 5 -nc 5 -tau 0.002 -i ../../../../datasets/simple-synthetic.su -v 0\",\n",
    "                           cwd = \"SYCL/build/\",\n",
    "                           shell = True,\n",
    "                           stdout = subprocess.PIPE,\n",
    "                           stderr = subprocess.PIPE,\n",
    "                           universal_newlines = True)\n",
    "    result = run.communicate()[0].split(\",\")\n",
    "    df = df.append(pd.DataFrame({\"version\"          : [\"SYCL\"], \n",
    "                                 \"platform\"         : [\"Intel(R) Core(TM) i5-7360U CPU @ 2.30GHz\"], \n",
    "                                 \"execution_time_ms\": [int(result[0])]}), sort=False)\n",
    "          \n",
    "df.to_csv(FILENAME, index = False, header = True)"
   ]
  },
  {
   "cell_type": "code",
   "execution_count": null,
   "metadata": {},
   "outputs": [],
   "source": [
    "# Plot results\n",
    "df = pd.read_csv(FILENAME)\n",
    "by_version = df.groupby(by=\"version\", sort=False)\n",
    "avg_time = by_version.mean()\n",
    "std = by_version.std()\n",
    "plt = avg_time.plot(legend=False, kind=\"bar\", yerr=std)\n",
    "plt.set_title(\"Average execution time\")\n",
    "plt.set_ylabel(\"Execution time (ms)\")"
   ]
  },
  {
   "cell_type": "code",
   "execution_count": null,
   "metadata": {},
   "outputs": [],
   "source": []
  }
 ],
 "metadata": {
  "kernelspec": {
   "display_name": "Python 3",
   "language": "python",
   "name": "python3"
  },
  "language_info": {
   "codemirror_mode": {
    "name": "ipython",
    "version": 2
   },
   "file_extension": ".py",
   "mimetype": "text/x-python",
   "name": "python",
   "nbconvert_exporter": "python",
   "pygments_lexer": "ipython2",
   "version": "2.7.16"
  }
 },
 "nbformat": 4,
 "nbformat_minor": 2
}
